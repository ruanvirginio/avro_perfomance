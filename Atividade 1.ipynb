{
 "cells": [
  {
   "cell_type": "code",
   "execution_count": 12,
   "metadata": {},
   "outputs": [],
   "source": [
    "import pandas as pd\n",
    "import random\n",
    "import fastavro\n",
    "import time"
   ]
  },
  {
   "cell_type": "code",
   "execution_count": 13,
   "metadata": {},
   "outputs": [],
   "source": [
    "# Valores possíveis por coluna\n",
    "nomes = [\"Pedro\", \"Tiago\", \"João\", \"André\", \"Filipe\", \"Judas Iscariotes\", \"Mateus\", \"Tomé\", \"Bartolomeu\", \"Judas Tadeu\", \"Simão\"]\n",
    "idades = [20, 23, 19, 30, 28, 25, 31, 36, 34, 27, 39, 41, 52]\n",
    "cores_favoritas = [\"Vermelho\", \"Azul\", \"Verde\", \"Amarelo\", \"Roxo\", \"Laranja\", \"Anil\"] \n",
    "animais_favoritos = [\"Cachorro\", \"Gato\", \"Pássaro\", \"Peixe\", \"Coelho\", \"Bode\", \"Dragão de Komodo\"]  # Adicione mais valores, se desejar\n",
    "times_que_torce = [\"Flamengo\", \"Corinthians\", \"Palmeiras\", \"São Paulo\", \"Grêmio\", \"Vasco\", \"Belo\", \"Campinense\", \"Treze\"]  # Adicione mais valores, se desejar\n",
    "estados_que_nasceu = [\"Paraíba\", \"Acre\", \"São Paulo\", \"Rio de Janeiro\", \"Minas Gerais\", \"Bahia\", \"Pernambuco\"]  # Adicione mais valores, se desejar\n",
    "\n",
    "# Criando uma lista de dicionários com valores aleatórios usando random\n",
    "dados_aleatorios = []\n",
    "for i in range(1000000):\n",
    "    dados_aleatorios.append({\n",
    "        \"nome\": random.choice(nomes),\n",
    "        \"idade\": random.choice(idades),\n",
    "        \"número favorito\": random.randint(0, 1000),\n",
    "        \"cor favorita\": random.choice(cores_favoritas),\n",
    "        \"animal favorito\": random.choice(animais_favoritos),\n",
    "        \"time que torce\": random.choice(times_que_torce),\n",
    "        \"estado que nasceu\": random.choice(estados_que_nasceu)\n",
    "    })\n",
    "\n",
    "df = pd.DataFrame(dados_aleatorios)\n"
   ]
  },
  {
   "cell_type": "code",
   "execution_count": 14,
   "metadata": {},
   "outputs": [],
   "source": [
    "# Definindo o esquema Avro\n",
    "# obs: Lembrar de colocar null pra não ter problema com celulas vazias de uma base baixda da internet\n",
    "schema = {\n",
    "    \"type\": \"record\",\n",
    "    \"name\": \"User\",\n",
    "    \"fields\": [\n",
    "        {\"name\": \"nome\", \"type\": \"string\"},\n",
    "        {\"name\": \"idade\", \"type\": [\"int\", \"null\"]},\n",
    "        {\"name\": \"número favorito\", \"type\": [\"int\", \"null\"]},\n",
    "        {\"name\": \"cor favorita\", \"type\": [\"string\", \"null\"]},\n",
    "        {\"name\": \"animal favorito\", \"type\": [\"string\", \"null\"]},\n",
    "        {\"name\": \"time que torce\", \"type\": [\"string\", \"null\"]},\n",
    "        {\"name\": \"estado que nasceu\", \"type\": [\"string\", \"null\"]}\n",
    "    ]\n",
    "}\n",
    "\n",
    "# Salvando em avro\n",
    "with open(\"dados.avro\", \"wb\") as avro_file:\n",
    "    fastavro.writer(avro_file, schema, df.to_dict(orient=\"records\"))\n"
   ]
  },
  {
   "cell_type": "code",
   "execution_count": 15,
   "metadata": {},
   "outputs": [],
   "source": [
    "# Salvando em csv\n",
    "df.to_csv(\"dados.csv\", index=False)"
   ]
  },
  {
   "cell_type": "code",
   "execution_count": 16,
   "metadata": {},
   "outputs": [
    {
     "name": "stdout",
     "output_type": "stream",
     "text": [
      "Tempo de escrita em CSV: 12.9384 segundos\n",
      "Tempo de escrita em Avro: 30.9859 segundos\n"
     ]
    }
   ],
   "source": [
    "# DataFrame de exemplo\n",
    "data = {\"col1\": range(10000000), \"col2\": [str(i) for i in range(10000000)]}\n",
    "df = pd.DataFrame(data)\n",
    "\n",
    "# Medindo o tempo de escrita em CSV\n",
    "start_time_csv_write = time.time()\n",
    "df.to_csv(\"dados.csv\", index=False)\n",
    "csv_write_time = time.time() - start_time_csv_write\n",
    "\n",
    "# Medindo o tempo de escrita em Avro\n",
    "schema = {\n",
    "    \"type\": \"record\",\n",
    "    \"name\": \"MyData\",\n",
    "    \"fields\": [\n",
    "        {\"name\": \"col1\", \"type\": \"int\"},\n",
    "        {\"name\": \"col2\", \"type\": \"string\"}\n",
    "    ]\n",
    "}\n",
    "\n",
    "start_time_avro_write = time.time()\n",
    "with open(\"dados.avro\", \"wb\") as avro_file:\n",
    "    fastavro.writer(avro_file, schema, df.to_dict(orient=\"records\"))\n",
    "avro_write_time = time.time() - start_time_avro_write\n",
    "\n",
    "print(f\"Tempo de escrita em CSV: {csv_write_time:.4f} segundos\")\n",
    "print(f\"Tempo de escrita em Avro: {avro_write_time:.4f} segundos\")\n"
   ]
  },
  {
   "cell_type": "code",
   "execution_count": 17,
   "metadata": {},
   "outputs": [
    {
     "name": "stdout",
     "output_type": "stream",
     "text": [
      "Tempo de leitura em CSV: 2.1861 segundos\n",
      "Tempo de leitura em Avro: 21.8920 segundos\n"
     ]
    }
   ],
   "source": [
    "# Medindo o tempo de leitura em CSV\n",
    "start_time_csv_read = time.time()\n",
    "df_csv = pd.read_csv(\"dados.csv\")\n",
    "csv_read_time = time.time() - start_time_csv_read\n",
    "\n",
    "# Medindo o tempo de leitura em Avro\n",
    "start_time_avro_read = time.time()\n",
    "with open(\"dados.avro\", \"rb\") as avro_file:\n",
    "    avro_reader = fastavro.reader(avro_file)\n",
    "    avro_records = list(avro_reader)\n",
    "df_avro = pd.DataFrame(avro_records)\n",
    "avro_read_time = time.time() - start_time_avro_read\n",
    "\n",
    "print(f\"Tempo de leitura em CSV: {csv_read_time:.4f} segundos\")\n",
    "print(f\"Tempo de leitura em Avro: {avro_read_time:.4f} segundos\")\n"
   ]
  }
 ],
 "metadata": {
  "kernelspec": {
   "display_name": "Python 3",
   "language": "python",
   "name": "python3"
  },
  "language_info": {
   "codemirror_mode": {
    "name": "ipython",
    "version": 3
   },
   "file_extension": ".py",
   "mimetype": "text/x-python",
   "name": "python",
   "nbconvert_exporter": "python",
   "pygments_lexer": "ipython3",
   "version": "3.11.5"
  },
  "orig_nbformat": 4
 },
 "nbformat": 4,
 "nbformat_minor": 2
}
